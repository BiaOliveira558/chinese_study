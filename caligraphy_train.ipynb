{
 "cells": [
  {
   "cell_type": "code",
   "execution_count": 2,
   "id": "a9fd0df4",
   "metadata": {},
   "outputs": [
    {
     "name": "stdout",
     "output_type": "stream",
     "text": [
      "Requirement already satisfied: reportlab in c:\\users\\beatriz\\documents\\chinese_codes\\.venv\\lib\\site-packages (4.4.3)\n",
      "Requirement already satisfied: pillow>=9.0.0 in c:\\users\\beatriz\\documents\\chinese_codes\\.venv\\lib\\site-packages (from reportlab) (11.3.0)\n",
      "Requirement already satisfied: charset-normalizer in c:\\users\\beatriz\\documents\\chinese_codes\\.venv\\lib\\site-packages (from reportlab) (3.4.3)\n",
      "Note: you may need to restart the kernel to use updated packages.\n"
     ]
    }
   ],
   "source": [
    "%pip install reportlab"
   ]
  },
  {
   "cell_type": "code",
   "execution_count": 3,
   "id": "f428c649",
   "metadata": {},
   "outputs": [],
   "source": [
    "from reportlab.pdfgen import canvas\n",
    "from reportlab.lib.pagesizes import A4\n",
    "from reportlab.lib.units import cm\n",
    "from reportlab.lib import colors\n",
    "from reportlab.pdfbase import pdfmetrics\n",
    "from reportlab.pdfbase.cidfonts import UnicodeCIDFont\n",
    "from reportlab.pdfbase.ttfonts import TTFont\n"
   ]
  },
  {
   "cell_type": "code",
   "execution_count": 4,
   "id": "1bbe8ed8",
   "metadata": {},
   "outputs": [],
   "source": [
    "font_path = r\"C:\\Windows\\Fonts\\Arial.ttf\"\n",
    "pdfmetrics.registerFont(TTFont(\"Arial\", font_path))\n",
    "\n",
    "# registra a fonte chinesa embutida\n",
    "pdfmetrics.registerFont(UnicodeCIDFont(\"STSong-Light\"))\n",
    "\n",
    "# --------- 5 exemplos de caracteres (hanzi, pinyin, tradução) ----------\n",
    "CHARS = [\n",
    "    (\"水\", \"shuǐ\", \"água\"),\n",
    "    (\"人\", \"rén\", \"pessoa\"),\n",
    "    (\"大\", \"dà\", \"grande\"),\n",
    "    (\"小\", \"xiǎo\", \"pequeno\"),\n",
    "    (\"中\", \"zhōng\", \"meio\"),\n",
    "]\n",
    "\n",
    "# --------- Parâmetros de layout ---------\n",
    "PAGE_W, PAGE_H = A4"
   ]
  },
  {
   "cell_type": "code",
   "execution_count": 5,
   "id": "129e16a3",
   "metadata": {},
   "outputs": [],
   "source": [
    "# Desenha o quadrado de treino em si\n",
    "# parametros: \n",
    "    # c = folha \n",
    "    # x = coordenada horizontal do canto inferior esquerdo do retângulo\n",
    "    # y = coordenada vertical do canto inferior esquerdo do retângulo\n",
    "    # size = largura/ altura\n",
    "    \n",
    "def draw_mizige(c, x, y, size, dashed=True, diagonals=True):\n",
    "    \n",
    "    # Ativando o pontilhado na folha c\n",
    "    if dashed:\n",
    "        c.setDash(1, 2)  # traço 1, espaço 2\n",
    "\n",
    "    # desenhando um quadrado \n",
    "    c.rect(x, y, size, size)\n",
    "\n",
    "    # cruz\n",
    "    c.line(x, y + size/2, x + size, y + size/2)\n",
    "    c.line(x + size/2, y, x + size/2, y + size)\n",
    "\n",
    "    # diagonais\n",
    "    if diagonals:\n",
    "        c.line(x, y, x + size, y + size)\n",
    "        c.line(x, y + size, x + size, y)\n",
    "    \n",
    "    if dashed:\n",
    "        c.setDash()  # volta ao traço contínuo\n",
    "    "
   ]
  },
  {
   "cell_type": "code",
   "execution_count": 6,
   "id": "de0c99cf",
   "metadata": {},
   "outputs": [],
   "source": [
    "def draw_inner_char(c, cx, cy, hanzi, size_pt, mode=\"ghost\"):\n",
    "    \"\"\"Caractere no centro do quadrado: ghost (cinza), dashed (contorno) ou none.\"\"\"\n",
    "    if mode == \"none\":\n",
    "        return\n",
    "    if mode == \"ghost\":\n",
    "        c.saveState()\n",
    "        c.setFont('STSong-Light', size_pt)\n",
    "        c.setFillColorRGB(0.75, 0.75, 0.75)\n",
    "        w = pdfmetrics.stringWidth(hanzi, 'STSong-Light', size_pt)\n",
    "        c.drawString(cx - w/2, cy - size_pt*0.35, hanzi)\n",
    "        c.restoreState()\n",
    "    elif mode == \"dashed\":\n",
    "        c.saveState()\n",
    "        text = c.beginText()\n",
    "        text.setFont('STSong-Light', size_pt)\n",
    "        text.setTextRenderMode(1)    # contorno apenas\n",
    "        c.setLineWidth(0.8)\n",
    "        c.setDash(1, 2)\n",
    "        w = pdfmetrics.stringWidth(hanzi, 'STSong-Light', size_pt)\n",
    "        text.setTextOrigin(cx - w/2, cy - size_pt*0.35)\n",
    "        text.textLine(hanzi)\n",
    "        c.drawText(text)\n",
    "        c.setDash()\n",
    "        c.restoreState()"
   ]
  },
  {
   "cell_type": "code",
   "execution_count": 21,
   "id": "008f8ae4",
   "metadata": {},
   "outputs": [],
   "source": [
    "def write_chars(c, chars, start_x=40, start_y=None, line_gap=70):\n",
    "    \"\"\"\n",
    "    Escreve pinyin + tradução em uma linha e o hanzi logo abaixo,\n",
    "    iterando sobre a lista chars [(hanzi, pinyin, tradução), ...].\n",
    "    - c: canvas\n",
    "    - chars: lista de tuplas\n",
    "    - start_x: margem esquerda\n",
    "    - start_y: posição vertical inicial (se None = topo da página)\n",
    "    - line_gap: espaço vertical entre blocos\n",
    "    \"\"\"\n",
    "    if start_y is None:\n",
    "        start_y = PAGE_H - 40  # começa do topo\n",
    "    \n",
    "    y = start_y\n",
    "    for hanzi, pinyin, meaning in chars:\n",
    "        # escreve pinyin + tradução\n",
    "        c.setFont(\"Arial\", 11)\n",
    "        texto = f\"{pinyin} - {meaning}\"\n",
    "        c.drawString(start_x, y, texto)\n",
    "        \n",
    "        # escreve o hanzi grande logo abaixo\n",
    "        c.setFont(\"STSong-Light\", 23)\n",
    "        c.drawString(start_x, y - 30, hanzi)\n",
    "        \n",
    "        # desce para o próximo bloco\n",
    "        y -= line_gap"
   ]
  },
  {
   "cell_type": "code",
   "execution_count": null,
   "id": "0c712ced",
   "metadata": {},
   "outputs": [
    {
     "name": "stdout",
     "output_type": "stream",
     "text": [
      "OK: C:\\Users\\beatriz\\Documents\\chinese_codes\\PDFs\\teste.pdf\n"
     ]
    }
   ],
   "source": [
    "path=r\"C:\\Users\\beatriz\\Documents\\chinese_codes\\PDFs\\teste.pdf\"\n",
    "c = canvas.Canvas(path, pagesize=A4)\n",
    "s = 3 * cm  # 6 cm de lado\n",
    "x = 40\n",
    "y = PAGE_H - 10\n",
    "\n",
    "write_chars(c, CHARS)\n",
    "\n",
    "c.showPage()\n",
    "c.save()\n",
    "print(f\"OK: {path}\")"
   ]
  }
 ],
 "metadata": {
  "kernelspec": {
   "display_name": ".venv",
   "language": "python",
   "name": "python3"
  },
  "language_info": {
   "codemirror_mode": {
    "name": "ipython",
    "version": 3
   },
   "file_extension": ".py",
   "mimetype": "text/x-python",
   "name": "python",
   "nbconvert_exporter": "python",
   "pygments_lexer": "ipython3",
   "version": "3.12.10"
  }
 },
 "nbformat": 4,
 "nbformat_minor": 5
}
